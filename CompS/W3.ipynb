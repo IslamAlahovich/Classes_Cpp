{
 "cells": [
  {
   "cell_type": "code",
   "execution_count": 58,
   "metadata": {
    "collapsed": true
   },
   "outputs": [],
   "source": [
    "import numpy as np\n",
    "from scipy.misc import derivative\n",
    "import matplotlib.pyplot as plt"
   ]
  },
  {
   "cell_type": "code",
   "execution_count": 59,
   "metadata": {
    "collapsed": true
   },
   "outputs": [],
   "source": [
    "def myEq(x):\n",
    "    return x**3 - 2.2 * x**2 + 1.56 * x - 0.36 #x**2 + 4 * np.cos(x) - 4 #x**2 - np.sin(x) - 1"
   ]
  },
  {
   "cell_type": "code",
   "execution_count": 60,
   "metadata": {
    "collapsed": true
   },
   "outputs": [],
   "source": [
    "def M(a, b, k):\n",
    "    X = np.linspace(a, b, 100)\n",
    "    M = abs(derivative(myEq, a, dx=1e-6, n=k))\n",
    "    for i in X:\n",
    "        if(abs(derivative(myEq, i, dx=1e-6, n=k)) > M): M = abs(derivative(myEq, a, dx=1e-6, n=k))\n",
    "    return M"
   ]
  },
  {
   "cell_type": "code",
   "execution_count": 61,
   "metadata": {
    "collapsed": true
   },
   "outputs": [],
   "source": [
    "def m(a, b, k):\n",
    "    X = np.linspace(a, b, 100)\n",
    "    m = abs(derivative(myEq, a, dx=1e-6, n=k))\n",
    "    for i in X:\n",
    "        if(abs(derivative(myEq, i, dx=1e-6, n=k)) < m): m = abs(derivative(myEq, i, dx=1e-6, n=k))\n",
    "    return m"
   ]
  },
  {
   "cell_type": "code",
   "execution_count": 62,
   "metadata": {
    "collapsed": true
   },
   "outputs": [],
   "source": [
    "def dich(a, b):\n",
    "    X = np.linspace(a, b, 1000)\n",
    "    dX = [[X[i], X[i+1]] for i in range(len(X)-1) if (myEq(X[i]) >= 0 and myEq(X[i+1]) <= 0) or (myEq(X[i]) <= 0 and myEq(X[i+1]) >= 0)]\n",
    "    ROOTS = []\n",
    "    \n",
    "    for i in dX:\n",
    "        while(abs(i[0] - i[1]) > (1e-10)):\n",
    "                mid = (i[0] + i[1])*0.5\n",
    "                if (myEq(i[0]) < 0 and myEq(mid) > 0) or (myEq(i[0]) > 0 and myEq(mid) < 0): \n",
    "                    i[1] = mid\n",
    "                else:\n",
    "                    i[0] = mid\n",
    "        ROOTS.append(i[0])\n",
    "    return(ROOTS)"
   ]
  },
  {
   "cell_type": "code",
   "execution_count": 81,
   "metadata": {
    "collapsed": true
   },
   "outputs": [],
   "source": [
    "def eazyE(a, b):\n",
    "    X = np.linspace(a, b, 10)\n",
    "    ROOTS = []\n",
    "    tau = 2 / (M(a, b, 1) + m(a, b, 1))\n",
    "    q = (M(a, b, 1) - m(a, b, 1))/(M(a,b, 1) + m(a, b, 1))\n",
    "    N = int(np.round(np.log(10**(-10) / abs(b - a))/np.log(q)) + 1)\n",
    "    \n",
    "    for x in X:\n",
    "        for iteration in range(N):\n",
    "            if(abs(x) >= 1.30465437471e+18): \n",
    "                x = None\n",
    "                break\n",
    "            x = x + tau * myEq(x)\n",
    "        if(x != None): ROOTS.append(x)\n",
    "    \n",
    "    ROOTS = list(set(np.float16(ROOTS))) #сортировка\n",
    "    for i in ROOTS:\n",
    "        for j in ROOTS[:ROOTS.index(i)]+ROOTS[(ROOTS.index(i)+1):]:\n",
    "            if(abs(i - j) <= 1e-4): ROOTS.remove(i)                \n",
    "    return ROOTS"
   ]
  },
  {
   "cell_type": "code",
   "execution_count": 82,
   "metadata": {},
   "outputs": [
    {
     "data": {
      "text/plain": [
       "[0.60049062201755476, 1.0]"
      ]
     },
     "execution_count": 82,
     "metadata": {},
     "output_type": "execute_result"
    }
   ],
   "source": [
    "eazyE(-1, 2)"
   ]
  },
  {
   "cell_type": "code",
   "execution_count": 65,
   "metadata": {
    "collapsed": true
   },
   "outputs": [],
   "source": [
    "def Newton(a, b):\n",
    "    X = np.linspace(a, b, 10)\n",
    "    ROOTS = []\n",
    "    m1 = m(a, b, 1)\n",
    "    \n",
    "    for i in X:\n",
    "        if((myEq(i)*(derivative(myEq, i, dx=1e-6, n=2))) > 0):\n",
    "            x = i\n",
    "            while(abs(myEq(x))/m1 >= 1e-10): \n",
    "                if(abs(x) >= 1.30465437471e+18): \n",
    "                    x = None\n",
    "                    break\n",
    "                tau = derivative(myEq, x, dx=1e-6, n=1)\n",
    "                x = x - myEq(x)/tau\n",
    "        if(x != None): ROOTS.append(x)\n",
    "    \n",
    "    ROOTS = list(set(np.float16(ROOTS))) #сортировка\n",
    "    for i in ROOTS:\n",
    "        for j in ROOTS[:ROOTS.index(i)]+ROOTS[(ROOTS.index(i)+1):]:\n",
    "            if(abs(i - j) <= 1e-4): ROOTS.remove(i)\n",
    "    return ROOTS"
   ]
  },
  {
   "cell_type": "code",
   "execution_count": 66,
   "metadata": {},
   "outputs": [
    {
     "data": {
      "text/plain": [
       "[0.6001, 1.0]"
      ]
     },
     "execution_count": 66,
     "metadata": {},
     "output_type": "execute_result"
    }
   ],
   "source": [
    "Newton(-1, 2)"
   ]
  },
  {
   "cell_type": "code",
   "execution_count": 67,
   "metadata": {
    "collapsed": true
   },
   "outputs": [],
   "source": [
    "def Chord(a, b):\n",
    "    X = np.linspace(a, b, 10)\n",
    "    ROOTS = []\n",
    "    m1 = m(a, b, 1)\n",
    "    \n",
    "    for x0 in X:\n",
    "        if((myEq(x0)*(derivative(myEq, x0, dx=1e-6, n=2))) > 0):\n",
    "            for x in X:\n",
    "                if((myEq(x) * myEq(x0)) < 0):\n",
    "                    while(abs(myEq(x))/m1 >= 1e-10):\n",
    "                        if(abs(x) >= 1.30465437471e+18): \n",
    "                            x = None\n",
    "                            break\n",
    "                        tau = (x - x0)/(myEq(x) - myEq(x0))\n",
    "                        x = x - myEq(x)*tau\n",
    "                    if(x != None):\n",
    "                        ROOTS.append(x)\n",
    "                        break\n",
    "    \n",
    "    ROOTS = list(set(np.float16(ROOTS))) #сортировка\n",
    "    for i in ROOTS:\n",
    "        for j in ROOTS[:ROOTS.index(i)]+ROOTS[(ROOTS.index(i)+1):]:\n",
    "            if(abs(i - j) <= 1e-4): ROOTS.remove(i)\n",
    "    return ROOTS"
   ]
  },
  {
   "cell_type": "code",
   "execution_count": 68,
   "metadata": {},
   "outputs": [
    {
     "data": {
      "text/plain": [
       "[0.6001, 1.0]"
      ]
     },
     "execution_count": 68,
     "metadata": {},
     "output_type": "execute_result"
    }
   ],
   "source": [
    "Chord(-1, 2)"
   ]
  },
  {
   "cell_type": "code",
   "execution_count": 69,
   "metadata": {
    "collapsed": true
   },
   "outputs": [],
   "source": [
    "def Secant(a, b):\n",
    "    X = np.linspace(a, b, 10)\n",
    "    ROOTS = []\n",
    "    m1 = m(a, b, 1)\n",
    "    \n",
    "    for x0 in X:\n",
    "        if((myEq(x0)*(derivative(myEq, x0, dx=1e-6, n=2))) > 0):\n",
    "            for x1 in X:\n",
    "                if((myEq(x1) * myEq(x0)) < 0):\n",
    "                    while(abs(myEq(x1))/m1 >= 1e-10):\n",
    "                        if(abs(x1) >= 1.30465437471e+18): \n",
    "                            x1 = None\n",
    "                            break\n",
    "                        tau = (x1 - x0)/(myEq(x1) - myEq(x0))\n",
    "                        x2 = x1 - myEq(x1)*tau\n",
    "                        x0, x1 = x1, x2\n",
    "                    if(x1 != None):\n",
    "                        ROOTS.append(x1)\n",
    "                        break\n",
    "\n",
    "    ROOTS = list(set(np.float16(ROOTS))) #сортировка\n",
    "    for i in ROOTS:\n",
    "        for j in ROOTS[:ROOTS.index(i)]+ROOTS[(ROOTS.index(i)+1):]:\n",
    "            if(abs(i - j) <= 1e-4): ROOTS.remove(i)\n",
    "    return ROOTS"
   ]
  },
  {
   "cell_type": "code",
   "execution_count": 70,
   "metadata": {},
   "outputs": [
    {
     "data": {
      "text/plain": [
       "[0.6001, 1.0]"
      ]
     },
     "execution_count": 70,
     "metadata": {},
     "output_type": "execute_result"
    }
   ],
   "source": [
    "Secant(-1, 2)"
   ]
  },
  {
   "cell_type": "code",
   "execution_count": 79,
   "metadata": {
    "collapsed": true
   },
   "outputs": [],
   "source": [
    "def Cheb(a, b):\n",
    "    X = np.linspace(a, b, 10)\n",
    "    ROOTS = []\n",
    "    for x in X:\n",
    "        while(abs(myEq(x)) >= 1e-10):\n",
    "            if(abs(x) >= 1.30465437471e+18): \n",
    "                x = None\n",
    "                break\n",
    "            dmyEq = derivative(myEq, x, dx=1e-6, n=1)\n",
    "            d2myEq = derivative(myEq, x, dx=1e-6, n=2)\n",
    "            x = x - (myEq(x) / dmyEq) - ((d2myEq * myEq(x)**2) / (2 * dmyEq**3))\n",
    "        if(x != None):ROOTS.append(x)\n",
    "    \n",
    "    ROOTS = list(set(np.float16(ROOTS))) #сортировка\n",
    "    for i in ROOTS:\n",
    "        for j in ROOTS[:ROOTS.index(i)]+ROOTS[(ROOTS.index(i)+1):]:\n",
    "            if(abs(i - j) <= 1e-4): ROOTS.remove(i)\n",
    "    return ROOTS"
   ]
  },
  {
   "cell_type": "code",
   "execution_count": 80,
   "metadata": {},
   "outputs": [
    {
     "data": {
      "text/plain": [
       "[0.6001, 1.0]"
      ]
     },
     "execution_count": 80,
     "metadata": {},
     "output_type": "execute_result"
    }
   ],
   "source": [
    "Cheb(-1, 2)"
   ]
  },
  {
   "cell_type": "code",
   "execution_count": 73,
   "metadata": {
    "collapsed": true
   },
   "outputs": [],
   "source": [
    "def Parab(a, b):\n",
    "    X = np.linspace(a, b, 10)\n",
    "    ROOTS = []\n",
    "    flag = False\n",
    "    for x0 in X:\n",
    "        for x1 in X:\n",
    "            for x2 in X:\n",
    "                while(abs(myEq(x2)) >= 1e-10):\n",
    "                    if(abs(x2) >= 1.30465437471e+18 or (x2 - x0) * (x2 - x1) == 0 or (x1 - x2) * (x1 - x0) == 0 or (x0 - x2) * (x0 - x1) == 0 or (x2 - x1) == 0): \n",
    "                        x2 = None\n",
    "                        break\n",
    "                    coefA = (myEq(x2) / ((x2 - x0) * (x2 - x1))) + (myEq(x1) / ((x1 - x2) * (x1 - x0))) + (myEq(x0) / ((x0 - x2) * (x0 - x1)))\n",
    "                    if(coefA == 0):\n",
    "                        x2 = None\n",
    "                        break\n",
    "                    coefB = ((myEq(x2) - myEq(x1)) / (x2 - x1)) + (x2 - x1) * coefA\n",
    "                    coefC = myEq(x2)\n",
    "                    if((coefB**2 - 4 * coefA * coefC) < 0):\n",
    "                        x2 = None\n",
    "                        break\n",
    "                    z1 = (-coefB + np.sqrt(coefB**2 - 4 * coefA * coefC)) / 2 * coefA\n",
    "                    z2 = (-coefB - np.sqrt(coefB**2 - 4 * coefA * coefC)) / 2 * coefA\n",
    "                    if(abs(z1) > abs(z2)): z1 = z2\n",
    "                    x0, x1 = x1, x2\n",
    "                    x2 = x2 + z1\n",
    "                if(x2 != None):\n",
    "                    ROOTS.append(x2)\n",
    "                    flag = True\n",
    "                    break\n",
    "            #if(flag):\n",
    "            #    flag = False\n",
    "            #    break\n",
    "\n",
    "    ROOTS = list(set(np.float16(ROOTS))) #сортировка\n",
    "    for i in ROOTS:\n",
    "        for j in ROOTS[:ROOTS.index(i)]+ROOTS[(ROOTS.index(i)+1):]:\n",
    "            if(abs(i - j) <= 1e-4): ROOTS.remove(i)\n",
    "    return ROOTS"
   ]
  },
  {
   "cell_type": "code",
   "execution_count": 74,
   "metadata": {},
   "outputs": [
    {
     "data": {
      "text/plain": [
       "[0.6001, 1.0]"
      ]
     },
     "execution_count": 74,
     "metadata": {},
     "output_type": "execute_result"
    }
   ],
   "source": [
    "Parab(-1, 2)"
   ]
  },
  {
   "cell_type": "code",
   "execution_count": 75,
   "metadata": {
    "collapsed": true
   },
   "outputs": [],
   "source": [
    "def Show(a, b):\n",
    "    print(\"eazyE: \", eazyE(a, b))\n",
    "    print(\"NEWTON: \", Newton(a, b))\n",
    "    print(\"CHORDS: \", Chord(a, b))\n",
    "    print(\"SECANTS: \", Secant(a, b))\n",
    "    print(\"CHEBISHEV: \", Cheb(a, b))\n",
    "    print(\"PARABOLS\", Parab(a, b))\n",
    "    \n",
    "    #-----ОТРИСОВКА----------\n",
    "    X = np.linspace(a, b, 100)\n",
    "    Y = [myEq(i) for i in X]\n",
    "    ROOTS = Newton(a, b)\n",
    "    Null = [0 for i in ROOTS]\n",
    "    plt.plot(X, Y, label = \"$Equation$\") \n",
    "    plt.plot(ROOTS, Null, \"o\", label = \"$root$\")\n",
    "    plt.grid(True)\n",
    "    plt.axis([a, b, -0.1, 0.1])\n",
    "    plt.legend()\n",
    "    plt.show()"
   ]
  },
  {
   "cell_type": "code",
   "execution_count": 76,
   "metadata": {},
   "outputs": [
    {
     "name": "stdout",
     "output_type": "stream",
     "text": [
      "eazyE:  [0.60059, 1.0]\n",
      "NEWTON:  [0.6001, 1.0]\n",
      "CHORDS:  [0.6001, 1.0]\n",
      "SECANTS:  [0.6001, 1.0]\n",
      "CHEBISHEV:  [0.6001, 1.0]\n",
      "PARABOLS [0.6001, 1.0]\n"
     ]
    },
    {
     "data": {
      "image/png": "[encoded data removed]",
      "text/plain": [
       "<matplotlib.figure.Figure at 0x8ed4470>"
      ]
     },
     "metadata": {},
     "output_type": "display_data"
    }
   ],
   "source": [
    "Show(-1, 2)"
   ]
  },
  {
   "cell_type": "code",
   "execution_count": null,
   "metadata": {
    "collapsed": true
   },
   "outputs": [],
   "source": []
  }
 ],
 "metadata": {
  "kernelspec": {
   "display_name": "Python 3",
   "language": "python",
   "name": "python3"
  },
  "language_info": {
   "codemirror_mode": {
    "name": "ipython",
    "version": 3
   },
   "file_extension": ".py",
   "mimetype": "text/x-python",
   "name": "python",
   "nbconvert_exporter": "python",
   "pygments_lexer": "ipython3",
   "version": "3.6.1"
  }
 },
 "nbformat": 4,
 "nbformat_minor": 2
}
