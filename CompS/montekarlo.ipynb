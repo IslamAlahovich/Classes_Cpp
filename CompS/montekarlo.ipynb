{
 "cells": [
  {
   "cell_type": "code",
   "execution_count": 1,
   "metadata": {
    "collapsed": true
   },
   "outputs": [],
   "source": [
    "import numpy as np"
   ]
  },
  {
   "cell_type": "code",
   "execution_count": 3,
   "metadata": {},
   "outputs": [],
   "source": [
    "import matplotlib.pyplot as plt"
   ]
  },
  {
   "cell_type": "code",
   "execution_count": 9,
   "metadata": {
    "collapsed": true
   },
   "outputs": [],
   "source": [
    "def lagranz(x,y,t):\n",
    "    z=0\n",
    "    for j in range(len(y)):\n",
    "        p1=1; p2=1\n",
    "        for i in range(len(x)):\n",
    "            if i==j:\n",
    "                p1=p1*1; p2=p2*1   \n",
    "            else: \n",
    "                p1=p1*(t-x[i])\n",
    "                p2=p2*(x[j]-x[i])\n",
    "        z=z+y[j]*p1/p2\n",
    "    return z"
   ]
  },
  {
   "cell_type": "code",
   "execution_count": 22,
   "metadata": {
    "collapsed": true
   },
   "outputs": [],
   "source": [
    "def MKPLOT(n):\n",
    "    evX = np.linspace(0, np.pi, n)\n",
    "    evY = [np.sin(i) for i in evX]\n",
    "\n",
    "    mkX = []\n",
    "    mkX.append(0)\n",
    "    for i in evX[:-1]:\n",
    "        mkX.append(i + np.random.random())\n",
    "    print(mkX)\n",
    "    mkY = [np.sin(i) for i in mkX]\n",
    "    print(mkY)\n",
    "    \n",
    "    plX = np.linspace(0, np.pi, 100)\n",
    "    \n",
    "    evplY = [lagranz(evX, evY, i) for i in plX]\n",
    "    mkplY = [lagranz(mkX, mkY, i) for i in plX]\n",
    "    \n",
    "    plt.plot(plX, np.sin(plX), \"blue\", label = \"$sin(x)$\") \n",
    "    plt.plot(plX, evplY, \"red\", label = \"$Ev$\")\n",
    "    plt.plot(plX, mkplY, \"orange\", label = \"$MonteKarlo$\")\n",
    "    plt.grid(True)\n",
    "    plt.axis([0, np.pi, 0, 1])\n",
    "    plt.legend()\n",
    "    plt.show()"
   ]
  },
  {
   "cell_type": "code",
   "execution_count": 10,
   "metadata": {},
   "outputs": [
    {
     "data": {
      "text/plain": [
       "5.442855425383581"
      ]
     },
     "execution_count": 10,
     "metadata": {},
     "output_type": "execute_result"
    }
   ],
   "source": [
    "np.random.random() + 5"
   ]
  },
  {
   "cell_type": "code",
   "execution_count": 30,
   "metadata": {},
   "outputs": [
    {
     "name": "stdout",
     "output_type": "stream",
     "text": [
      "[0, 0.29687694761136252, 1.6473227661624059, 2.1209807649884547, 2.4945386951492425]\n",
      "[0.0, 0.29253520443650632, 0.99707328076835178, 0.85242810407139857, 0.60283848692005537]\n"
     ]
    },
    {
     "data": {
      "image/png": "[encoded data removed]",
      "text/plain": [
       "<matplotlib.figure.Figure at 0x7abac50>"
      ]
     },
     "metadata": {},
     "output_type": "display_data"
    }
   ],
   "source": [
    "MKPLOT(5)"
   ]
  },
  {
   "cell_type": "code",
   "execution_count": null,
   "metadata": {
    "collapsed": true
   },
   "outputs": [],
   "source": []
  }
 ],
 "metadata": {
  "kernelspec": {
   "display_name": "Python 3",
   "language": "python",
   "name": "python3"
  },
  "language_info": {
   "codemirror_mode": {
    "name": "ipython",
    "version": 3
   },
   "file_extension": ".py",
   "mimetype": "text/x-python",
   "name": "python",
   "nbconvert_exporter": "python",
   "pygments_lexer": "ipython3",
   "version": "3.6.1"
  }
 },
 "nbformat": 4,
 "nbformat_minor": 2
}
