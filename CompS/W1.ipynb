{
 "cells": [
  {
   "cell_type": "code",
   "execution_count": 1,
   "metadata": {
    "collapsed": true
   },
   "outputs": [],
   "source": [
    "import numpy as np"
   ]
  },
  {
   "cell_type": "code",
   "execution_count": 2,
   "metadata": {
    "collapsed": true
   },
   "outputs": [],
   "source": [
    "import matplotlib.pyplot as plt"
   ]
  },
  {
   "cell_type": "code",
   "execution_count": 3,
   "metadata": {
    "collapsed": true
   },
   "outputs": [],
   "source": [
    "def lagranz(x,y,t):\n",
    "         z=0\n",
    "         for j in range(len(y)):\n",
    "             p1=1; p2=1\n",
    "             for i in range(len(x)):\n",
    "                 if i==j:\n",
    "                     p1=p1*1; p2=p2*1   \n",
    "                 else: \n",
    "                     p1=p1*(t-x[i])\n",
    "                     p2=p2*(x[j]-x[i])\n",
    "             z=z+y[j]*p1/p2\n",
    "         return z"
   ]
  },
  {
   "cell_type": "code",
   "execution_count": 7,
   "metadata": {
    "collapsed": true
   },
   "outputs": [],
   "source": [
    "def newton(x, y, t):\n",
    "    value = 0\n",
    "    norm = 1\n",
    "    for i in range(len(y)):\n",
    "        for j in range(i):\n",
    "            norm *= (t - x[j])\n",
    "        value += (coef(x, y, i) * norm)\n",
    "        norm = 1\n",
    "    return value\n",
    "\n",
    "def coef(x, y, n):\n",
    "    denom = 1\n",
    "    num = y[n]\n",
    "    norm = 1\n",
    "    \n",
    "    if(n == 0):\n",
    "        return num\n",
    "    \n",
    "    for i in range(n):\n",
    "        for j in range(i):\n",
    "            norm *= (x[n] - x[j])\n",
    "        denom *= (x[n]-x[i])\n",
    "        num -= (coef(x, y, i) * norm)\n",
    "        norm = 1\n",
    "    \n",
    "    return (num/denom)"
   ]
  },
  {
   "cell_type": "code",
   "execution_count": 9,
   "metadata": {
    "collapsed": true
   },
   "outputs": [],
   "source": [
    "def FLPlot(n):\n",
    "    X = np.linspace(-1, 2, n)\n",
    "    Y = [np.exp(i) for i in X]\n",
    "    \n",
    "    newX = np.linspace(np.min(X), np.max(X), 100)\n",
    "    newY = [lagranz(X, Y, i) for i in newX]\n",
    "    \n",
    "    plt.plot(newX, np.exp(newX), \"blue\", newX, newY, \"red\")\n",
    "    plt.grid(True)\n",
    "    plt.axis([-1, 2, 0, 10])\n",
    "    plt.xlabel(\"e^x\")\n",
    "    plt.show()"
   ]
  },
  {
   "cell_type": "code",
   "execution_count": 8,
   "metadata": {
    "collapsed": true
   },
   "outputs": [],
   "source": [
    "def FNPlot(n):\n",
    "    X = np.linspace(-1, 2, n)\n",
    "    Y = [np.exp(i) for i in X]\n",
    "    \n",
    "    newX = np.linspace(np.min(X), np.max(X), 100)\n",
    "    newY = [newton(X, Y, i) for i in newX]\n",
    "    \n",
    "    plt.plot(newX, np.exp(newX), \"blue\", newX, newY, \"green\")\n",
    "    plt.grid(True)\n",
    "    plt.axis([-1, 2, 0, 10])\n",
    "    plt.xlabel(\"e^x\")\n",
    "    plt.show()"
   ]
  },
  {
   "cell_type": "code",
   "execution_count": 13,
   "metadata": {
    "scrolled": true
   },
   "outputs": [
    {
     "data": {
      "image/png": "[encoded data removed]",
      "text/plain": [
       "<matplotlib.figure.Figure at 0x80865f8>"
      ]
     },
     "metadata": {},
     "output_type": "display_data"
    }
   ],
   "source": [
    "FLPlot(5)"
   ]
  },
  {
   "cell_type": "code",
   "execution_count": 12,
   "metadata": {},
   "outputs": [
    {
     "data": {
      "image/png": "[encoded data removed]",
      "text/plain": [
       "<matplotlib.figure.Figure at 0x81e9400>"
      ]
     },
     "metadata": {},
     "output_type": "display_data"
    }
   ],
   "source": [
    "FNPlot(5)"
   ]
  },
  {
   "cell_type": "code",
   "execution_count": null,
   "metadata": {
    "collapsed": true
   },
   "outputs": [],
   "source": []
  }
 ],
 "metadata": {
  "kernelspec": {
   "display_name": "Python 3",
   "language": "python",
   "name": "python3"
  },
  "language_info": {
   "codemirror_mode": {
    "name": "ipython",
    "version": 3
   },
   "file_extension": ".py",
   "mimetype": "text/x-python",
   "name": "python",
   "nbconvert_exporter": "python",
   "pygments_lexer": "ipython3",
   "version": "3.6.1"
  }
 },
 "nbformat": 4,
 "nbformat_minor": 2
}
