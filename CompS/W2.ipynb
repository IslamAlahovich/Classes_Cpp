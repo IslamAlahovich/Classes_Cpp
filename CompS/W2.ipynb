{
 "cells": [
  {
   "cell_type": "code",
   "execution_count": 1,
   "metadata": {
    "collapsed": true
   },
   "outputs": [],
   "source": [
    "import numpy as np\n",
    "from time import time\n",
    "from sympy import symbols, solve\n",
    "from scipy.misc import derivative\n",
    "import scipy.special as scispecial\n",
    "import scipy.integrate as scintegrate\n",
    "from scipy import double"
   ]
  },
  {
   "cell_type": "code",
   "execution_count": 2,
   "metadata": {
    "collapsed": true
   },
   "outputs": [],
   "source": [
    "def myF(x):\n",
    "    return np.sqrt(x)"
   ]
  },
  {
   "cell_type": "code",
   "execution_count": 3,
   "metadata": {},
   "outputs": [
    {
     "name": "stdout",
     "output_type": "stream",
     "text": [
      "Real value of integral:  2.7974349484710883\n"
     ]
    }
   ],
   "source": [
    "RealI = scintegrate.quad(myF, 1, 3)[0] #Реальное значение интеграла\n",
    "print(\"Real value of integral: \",RealI)"
   ]
  },
  {
   "cell_type": "code",
   "execution_count": 4,
   "metadata": {
    "collapsed": true
   },
   "outputs": [],
   "source": [
    "#Формула СР. ПРЯМОУГОЛЬНИКОВ\n",
    "def midRect(a, b, n):\n",
    "    X = np.linspace(a, b, n+1)[:-1]\n",
    "    Y = 0\n",
    "    h = (b-a)/n\n",
    "    for i in X: Y += myF(i+(h/2))\n",
    "    I = h*(Y)\n",
    "    return I"
   ]
  },
  {
   "cell_type": "code",
   "execution_count": 5,
   "metadata": {},
   "outputs": [
    {
     "name": "stdout",
     "output_type": "stream",
     "text": [
      "I1:  2.80127150841\n",
      "I2:  2.79840817314\n",
      "RDI1:  0.00383655993411\n",
      "RDI2:  0.000973224672712\n",
      "RDI1 / RDI2:  3.94211125312\n"
     ]
    }
   ],
   "source": [
    "#Используя формулу для оценки погрешности, Найдем:\n",
    "#(RDI - реальная погрешность)\n",
    "#для n = 3: |RDI| <= 0,0093\n",
    "#для n = 6: |RDI| <= 0,0023\n",
    "#RDI(n/2)/RDI(n) <= 4\n",
    "\n",
    "I1 = midRect(1, 3, 3)\n",
    "I2 = midRect(1, 3, 6)\n",
    "RDI1 = abs(I1 - RealI)\n",
    "RDI2 = abs(I2 - RealI)\n",
    "print(\"I1: \", I1)\n",
    "print(\"I2: \", I2)\n",
    "print(\"RDI1: \", RDI1)\n",
    "print(\"RDI2: \", RDI2)\n",
    "print(\"RDI1 / RDI2: \", RDI1 / RDI2)"
   ]
  },
  {
   "cell_type": "code",
   "execution_count": 6,
   "metadata": {
    "collapsed": true
   },
   "outputs": [],
   "source": [
    "#Формула ТРАПЕЦИЙ\n",
    "def Trapz(a, b, n):\n",
    "    X = np.linspace(a, b, n+1)[1:-1]\n",
    "    Y = 0\n",
    "    h = (b-a)/n\n",
    "    for i in X: Y += myF(i)\n",
    "    I = (h/2)*(myF(a)+2*(Y)+myF(b))\n",
    "    return I"
   ]
  },
  {
   "cell_type": "code",
   "execution_count": 7,
   "metadata": {},
   "outputs": [
    {
     "name": "stdout",
     "output_type": "stream",
     "text": [
      "I1:  2.78969672278\n",
      "I2:  2.79548411559\n",
      "RDI1:  0.00773822568963\n",
      "RDI2:  0.00195083287776\n",
      "RDI1 / RDI2:  3.9666266536\n"
     ]
    }
   ],
   "source": [
    "#Используя формулу для оценки погрешности, Найдем:\n",
    "#(RDI - реальная погрешность)\n",
    "#для n = 3: |RDI| <= 0,0185\n",
    "#для n = 6: |RDI| <= 0,0046\n",
    "#RDI(n/2)/RDI(n) <= 4\n",
    "\n",
    "I1 = Trapz(1, 3, 3)\n",
    "I2 = Trapz(1, 3, 6)\n",
    "RDI1 = abs(I1 - RealI)\n",
    "RDI2 = abs(I2 - RealI)\n",
    "print(\"I1: \", I1)\n",
    "print(\"I2: \", I2)\n",
    "print(\"RDI1: \", RDI1)\n",
    "print(\"RDI2: \", RDI2)\n",
    "print(\"RDI1 / RDI2: \", RDI1 / RDI2)"
   ]
  },
  {
   "cell_type": "code",
   "execution_count": 8,
   "metadata": {
    "collapsed": true
   },
   "outputs": [],
   "source": [
    "#Формула СИМПСОНА\n",
    "def Simps(a, b, n):\n",
    "    X = np.linspace(a, b, n+1)\n",
    "    h = (b-a)/n\n",
    "    Y1 = 0\n",
    "    Y2 = 0\n",
    "    for i in range(len(X)-1): Y1 += myF((X[i] + X[i+1])/2)\n",
    "    for i in X[1:-1]: Y2 += myF(i)\n",
    "    I = (h/6)*(myF(a) + 4*Y1 + 2*Y2 + myF(b))\n",
    "    return I"
   ]
  },
  {
   "cell_type": "code",
   "execution_count": 9,
   "metadata": {},
   "outputs": [
    {
     "name": "stdout",
     "output_type": "stream",
     "text": [
      "I1:  2.79741324653\n",
      "I2:  2.79743348729\n",
      "RDI1:  2.17019404687e-05\n",
      "RDI2:  1.46117744526e-06\n",
      "RDI1 / RDI2:  14.8523648097\n"
     ]
    }
   ],
   "source": [
    "#Используя формулу для оценки погрешности, Найдем:\n",
    "#(RDI - реальная погрешность)\n",
    "#для n = 3: |RDI| <= 0,00014\n",
    "#для n = 6: |RDI| <= 8,57e-6\n",
    "#RDI(n/2)/RDI(n) <= 16\n",
    "\n",
    "I1 = Simps(1, 3, 3)\n",
    "I2 = Simps(1, 3, 6)\n",
    "RDI1 = abs(I1 - RealI)\n",
    "RDI2 = abs(I2 - RealI)\n",
    "print(\"I1: \", I1)\n",
    "print(\"I2: \", I2)\n",
    "print(\"RDI1: \", RDI1)\n",
    "print(\"RDI2: \", RDI2)\n",
    "print(\"RDI1 / RDI2: \", RDI1 / RDI2)"
   ]
  },
  {
   "cell_type": "code",
   "execution_count": 10,
   "metadata": {
    "collapsed": true
   },
   "outputs": [],
   "source": [
    "#Формула Гаусса(для 2х узлов): \n",
    "def Gauss2(a, b):\n",
    "    #Находим узлы и веса из системы\n",
    "    c1, c2, x1, x2 = symbols(\"c1, c2, x1, x2\")\n",
    "    Solves = double(solve([c1 + c2 - (b-a), \n",
    "                           c1*x1 + c2*x2 - ((b**2 - a**2)/2), \n",
    "                           c1*x1**2 + c2*x2**2 - ((b**3 - a**3)/3), \n",
    "                           c1*x1**3 + c2*x2**3 - ((b**4 - a**4)/4)], \n",
    "                          [c1, c2, x1, x2])[0])\n",
    "    #Считаем интеграл\n",
    "    I = Solves[0]*myF(Solves[2]) + Solves[1]*myF(Solves[3])\n",
    "    return I\n",
    "\n",
    "def FGauss2(a, b, n):\n",
    "    X = np.linspace(a, b, n+1) #делим промежуток на n кусков\n",
    "    I = 0\n",
    "    for i in range(len(X)-1): I += Gauss2(X[i], X[i+1]) #и для каждого вызываем Формулу Гаусса, результаты складываем\n",
    "    return I"
   ]
  },
  {
   "cell_type": "code",
   "execution_count": 11,
   "metadata": {
    "collapsed": true
   },
   "outputs": [],
   "source": [
    "#Формула Гаусса(для 3х узлов): \n",
    "def Gauss3(a, b):\n",
    "    #Находим узлы и веса из системы\n",
    "    c1, c2, c3, x1, x2, x3 = symbols(\"c1, c2, c3, x1, x2, x3\")\n",
    "    Solves = double(solve([c1 + c2 + c3 - (b-a), \n",
    "                           c1*x1 + c2*x2 + c3*x3- ((b**2 - a**2)/2), \n",
    "                           c1*x1**2 + c2*x2**2 + c3*x3**2 - ((b**3 - a**3)/3), \n",
    "                           c1*x1**3 + c2*x2**3 + c3*x3**3 - ((b**4 - a**4)/4), \n",
    "                           c1*x1**4 + c2*x2**4 + c3*x3**4 - ((b**5 - a**5)/5), \n",
    "                           c1*x1**5 + c2*x2**5 + c3*x3**5 - ((b**6 - a**6)/6)], \n",
    "                          [c1, c2, c3, x1, x2, x3])[0])\n",
    "    #Считаем интеграл\n",
    "    I = Solves[0]*myF(Solves[3]) + Solves[1]*myF(Solves[4]) + Solves[2]*myF(Solves[5])\n",
    "    return I\n",
    "\n",
    "def FGauss3(a, b, n):\n",
    "    X = np.linspace(a, b, n+1) #делим промежуток на n кусков\n",
    "    I = 0\n",
    "    for i in range(len(X)-1): I += Gauss3(X[i], X[i+1]) #и для каждого вызываем Формулу Гаусса, результаты складываем\n",
    "    return I"
   ]
  },
  {
   "cell_type": "code",
   "execution_count": 12,
   "metadata": {
    "collapsed": true
   },
   "outputs": [],
   "source": [
    "#порядок точности формул\n",
    "def precOrder(quadF):\n",
    "    if quadF == FGauss3:\n",
    "        return 5\n",
    "    elif quadF == FGauss2:\n",
    "        return 3\n",
    "    elif quadF == Simps:\n",
    "        return 4\n",
    "    elif quadF == Trapz:\n",
    "        return 2\n",
    "    elif quadF == midRect:\n",
    "        return 2\n",
    "    else:\n",
    "        return 1"
   ]
  },
  {
   "cell_type": "code",
   "execution_count": 18,
   "metadata": {
    "collapsed": true
   },
   "outputs": [],
   "source": [
    "#вычисляем интеграл с точностью epsilon по ПРАВИЛУ РУНГЕ\n",
    "def ruleRunge(quadF, a, b):\n",
    "    n = 2\n",
    "    epsilon = 1\n",
    "    m = precOrder(quadF)\n",
    "    iteration = 0\n",
    "    while (epsilon > 1e-4): #пока оценка погрешности(epsilon) больше нужной нам(1e-4), увеличиваем n\n",
    "        iteration += 1\n",
    "        n *= 2\n",
    "        epsilon = abs(quadF(a, b, int(n/2)) - quadF(a, b, n))/(2**(m - 1) - 1)\n",
    "        print(\"For n =\", n, \":\", epsilon)\n",
    "    \n",
    "    tic = time()\n",
    "    I = quadF(a, b, n)\n",
    "    toc = time()\n",
    "    \n",
    "    print(\"Convergence:\", iteration)\n",
    "    print()\n",
    "    print(\"I =\", I, \"(for n =\", n, \")\")\n",
    "    print(\"RealDifference: \", abs(RealI - I))\n",
    "    print(\"RunTime:\", toc - tic)"
   ]
  },
  {
   "cell_type": "code",
   "execution_count": 19,
   "metadata": {},
   "outputs": [
    {
     "name": "stdout",
     "output_type": "stream",
     "text": [
      "For n = 4 : 2.02212306556e-05\n",
      "Convergence: 1\n",
      "\n",
      "I = 2.79743970022 (for n = 4 )\n",
      "RealDifference:  4.7517455517e-06\n",
      "RunTime: 0.4520258903503418\n"
     ]
    }
   ],
   "source": [
    "ruleRunge(FGauss2, 1, 3)"
   ]
  },
  {
   "cell_type": "code",
   "execution_count": null,
   "metadata": {
    "collapsed": true
   },
   "outputs": [],
   "source": []
  }
 ],
 "metadata": {
  "kernelspec": {
   "display_name": "Python 3",
   "language": "python",
   "name": "python3"
  },
  "language_info": {
   "codemirror_mode": {
    "name": "ipython",
    "version": 3
   },
   "file_extension": ".py",
   "mimetype": "text/x-python",
   "name": "python",
   "nbconvert_exporter": "python",
   "pygments_lexer": "ipython3",
   "version": "3.6.1"
  }
 },
 "nbformat": 4,
 "nbformat_minor": 2
}
