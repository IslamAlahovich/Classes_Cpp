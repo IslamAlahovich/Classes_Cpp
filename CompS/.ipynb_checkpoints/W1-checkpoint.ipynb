{
 "cells": [
  {
   "cell_type": "code",
   "execution_count": 4,
   "metadata": {
    "collapsed": true
   },
   "outputs": [],
   "source": [
    "import numpy as np"
   ]
  },
  {
   "cell_type": "code",
   "execution_count": 5,
   "metadata": {
    "collapsed": true
   },
   "outputs": [],
   "source": [
    "import matplotlib.pyplot as plt"
   ]
  },
  {
   "cell_type": "code",
   "execution_count": 6,
   "metadata": {
    "collapsed": true
   },
   "outputs": [],
   "source": [
    "from sympy import *"
   ]
  },
  {
   "cell_type": "code",
   "execution_count": 7,
   "metadata": {
    "collapsed": true
   },
   "outputs": [],
   "source": [
    "x = Symbol(\"x\")"
   ]
  },
  {
   "cell_type": "code",
   "execution_count": 8,
   "metadata": {
    "collapsed": true
   },
   "outputs": [],
   "source": [
    "def lagranz(x,y,t):\n",
    "         z=0\n",
    "         for j in range(len(y)):\n",
    "             p1=1; p2=1\n",
    "             for i in range(len(x)):\n",
    "                 if i==j:\n",
    "                     p1=p1*1; p2=p2*1   \n",
    "                 else: \n",
    "                     p1=p1*(t-x[i])\n",
    "                     p2=p2*(x[j]-x[i])\n",
    "             z=z+y[j]*p1/p2\n",
    "         return z"
   ]
  },
  {
   "cell_type": "code",
   "execution_count": 9,
   "metadata": {
    "collapsed": true
   },
   "outputs": [],
   "source": [
    "def newton(x, y, t):\n",
    "    value = 0\n",
    "    norm = 1\n",
    "    for i in range(len(y)):\n",
    "        for j in range(i):\n",
    "            norm *= (t - x[j])\n",
    "        value += (coef(x, y, i) * norm)\n",
    "        norm = 1\n",
    "    return value\n",
    "\n",
    "def coef(x, y, n):\n",
    "    denom = 1\n",
    "    num = y[n]\n",
    "    norm = 1\n",
    "    \n",
    "    if(n == 0):\n",
    "        return num\n",
    "    \n",
    "    for i in range(n):\n",
    "        for j in range(i):\n",
    "            norm *= (x[n] - x[j])\n",
    "        denom *= (x[n]-x[i])\n",
    "        num -= (coef(x, y, i) * norm)\n",
    "        norm = 1\n",
    "    \n",
    "    return (num/denom)"
   ]
  },
  {
   "cell_type": "code",
   "execution_count": 10,
   "metadata": {
    "collapsed": true
   },
   "outputs": [],
   "source": [
    "def difference(X, K, t):\n",
    "    omega = 1\n",
    "    for i in X:\n",
    "        omega *= (t - i)\n",
    "    return K*abs(omega)"
   ]
  },
  {
   "cell_type": "code",
   "execution_count": 11,
   "metadata": {
    "collapsed": true
   },
   "outputs": [],
   "source": [
    "def chebNode(a, b, n):\n",
    "    return [(0.5)*(b+a)+(0.5)*(b-a)*np.cos(((2*k+1)*(np.pi))/(2*(n+1))) for k in range(n)]"
   ]
  },
  {
   "cell_type": "code",
   "execution_count": 12,
   "metadata": {
    "collapsed": true
   },
   "outputs": [],
   "source": [
    "def FLPlot(n):\n",
    "    X = np.linspace(-1, 2, n)\n",
    "    Y = [np.exp(i) for i in X]\n",
    "    \n",
    "    newX = np.linspace(np.min(X), np.max(X), 100)\n",
    "    newY = [lagranz(X, Y, i) for i in newX]\n",
    "    \n",
    "    #----ПОГРЕШНОСТЬ-----------\n",
    "    M = 0\n",
    "    for i in newX:\n",
    "        mid = abs(diff(exp(x), x, (n+1)).subs(x, i))\n",
    "        if(M < mid): M = mid\n",
    "    K = M/factorial(n+1)\n",
    "    \n",
    "    diffY = [difference(X, K, i) for i in newX]\n",
    "    real_diffY = [abs(np.exp(i)-lagranz(X, Y, i)) for i in newX]\n",
    "    \n",
    "    #----ОТРИСОВКА-ГРАФИКОВ-----------\n",
    "    plt.plot(newX, np.exp(newX), \"blue\", label = \"exp(x)\") \n",
    "    plt.plot(newX, newY, \"red\", label = \"L(x)\")\n",
    "    plt.plot(X, Y, \"o\", label = \"data\")\n",
    "    plt.grid(True)\n",
    "    plt.axis([-1, 2, 0, 10])\n",
    "    plt.legend()\n",
    "    plt.show()\n",
    "    \n",
    "    plt.plot(newX, diffY, \"blue\", label = \"~diff\") \n",
    "    plt.plot(newX, real_diffY, \"red\", label = \"real diff\")\n",
    "    plt.grid(True)\n",
    "    plt.axis([-1, 2, 0, 10])\n",
    "    plt.legend()\n",
    "    plt.show()"
   ]
  },
  {
   "cell_type": "code",
   "execution_count": 13,
   "metadata": {
    "collapsed": true
   },
   "outputs": [],
   "source": [
    "def FNPlot(n):\n",
    "    X = np.linspace(-1, 2, n)\n",
    "    Y = [np.exp(i) for i in X]\n",
    "    \n",
    "    newX = np.linspace(np.min(X), np.max(X), 100)\n",
    "    newY = [newton(X, Y, i) for i in newX]\n",
    "    \n",
    "    plt.plot(newX, np.exp(newX), \"blue\", label = \"exp(x)\")\n",
    "    plt.plot(newX, newY, \"green\", label = \"N(x)\")\n",
    "    plt.plot(X, Y, \"o\", label = \"data\")\n",
    "    plt.grid(True)\n",
    "    plt.axis([-1, 2, 0, 10])\n",
    "    plt.legend()\n",
    "    plt.show()"
   ]
  },
  {
   "cell_type": "code",
   "execution_count": 21,
   "metadata": {
    "collapsed": true
   },
   "outputs": [],
   "source": [
    "def chebLPlot(n):\n",
    "    X = chebNode(-1, 2, n)\n",
    "    Y = [np.exp(i) for i in X]\n",
    "    \n",
    "    newX = np.linspace(-1, 2, 100)\n",
    "    newY = [lagranz(X, Y, i) for i in newX]\n",
    "    \n",
    "    #----ПОГРЕШНОСТЬ-----------\n",
    "    M = 0\n",
    "    for i in newX:\n",
    "        mid = abs(diff(exp(x), x, (n+1)).subs(x, i))\n",
    "        if(M < mid): M = mid\n",
    "    K = M/factorial(n+1)\n",
    "    \n",
    "    diffY = [difference(X, K, i) for i in newX]\n",
    "    real_diffY = [abs(np.exp(i)-lagranz(X, Y, i)) for i in newX]\n",
    "    \n",
    "    #----ОТРИСОВКА-ГРАФИКОВ-----------\n",
    "    plt.plot(newX, np.exp(newX), \"blue\", label = \"exp(x)\") \n",
    "    plt.plot(newX, newY, \"red\", label = \"L(x)\")\n",
    "    plt.plot(X, Y, \"o\", label = \"data\")\n",
    "    plt.grid(True)\n",
    "    plt.axis([-1, 2, 0, 10])\n",
    "    plt.legend()\n",
    "    plt.show()\n",
    "    \n",
    "    plt.plot(newX, diffY, \"blue\", label = \"~diff\") \n",
    "    plt.plot(newX, real_diffY, \"red\", label = \"real diff\")\n",
    "    plt.grid(True)\n",
    "    plt.axis([-1, 2, 0, 10])\n",
    "    plt.legend()\n",
    "    plt.show()"
   ]
  },
  {
   "cell_type": "code",
   "execution_count": 15,
   "metadata": {
    "scrolled": true
   },
   "outputs": [
    {
     "data": {
      "image/png": "[encoded data removed]",
      "text/plain": [
       "<matplotlib.figure.Figure at 0x8e68a90>"
      ]
     },
     "metadata": {},
     "output_type": "display_data"
    },
    {
     "data": {
      "image/png": "[encoded data removed]",
      "text/plain": [
       "<matplotlib.figure.Figure at 0x8f39630>"
      ]
     },
     "metadata": {},
     "output_type": "display_data"
    }
   ],
   "source": [
    "FLPlot(3)"
   ]
  },
  {
   "cell_type": "code",
   "execution_count": 16,
   "metadata": {},
   "outputs": [
    {
     "data": {
      "image/png": "[encoded data removed]",
      "text/plain": [
       "<matplotlib.figure.Figure at 0x8db4320>"
      ]
     },
     "metadata": {},
     "output_type": "display_data"
    }
   ],
   "source": [
    "FNPlot(10)"
   ]
  },
  {
   "cell_type": "code",
   "execution_count": 26,
   "metadata": {},
   "outputs": [
    {
     "data": {
      "image/png": "[encoded data removed]",
      "text/plain": [
       "<matplotlib.figure.Figure at 0xa572208>"
      ]
     },
     "metadata": {},
     "output_type": "display_data"
    },
    {
     "data": {
      "image/png": "[encoded data removed]",
      "text/plain": [
       "<matplotlib.figure.Figure at 0xa563ac8>"
      ]
     },
     "metadata": {},
     "output_type": "display_data"
    }
   ],
   "source": [
    "chebLPlot(5)"
   ]
  },
  {
   "cell_type": "code",
   "execution_count": 20,
   "metadata": {},
   "outputs": [
    {
     "data": {
      "text/plain": [
       "[1.9488887394336025,\n",
       " 1.5606601717798214,\n",
       " 0.88822856765378111,\n",
       " 0.11177143234621906,\n",
       " -0.56066017177982119]"
      ]
     },
     "execution_count": 20,
     "metadata": {},
     "output_type": "execute_result"
    }
   ],
   "source": [
    "chebNode(-1, 2, 5)"
   ]
  },
  {
   "cell_type": "code",
   "execution_count": null,
   "metadata": {
    "collapsed": true
   },
   "outputs": [],
   "source": []
  }
 ],
 "metadata": {
  "kernelspec": {
   "display_name": "Python 3",
   "language": "python",
   "name": "python3"
  },
  "language_info": {
   "codemirror_mode": {
    "name": "ipython",
    "version": 3
   },
   "file_extension": ".py",
   "mimetype": "text/x-python",
   "name": "python",
   "nbconvert_exporter": "python",
   "pygments_lexer": "ipython3",
   "version": "3.6.1"
  }
 },
 "nbformat": 4,
 "nbformat_minor": 2
}
