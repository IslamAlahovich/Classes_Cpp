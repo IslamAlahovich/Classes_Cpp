{
 "cells": [
  {
   "cell_type": "code",
   "execution_count": 69,
   "metadata": {},
   "outputs": [],
   "source": [
    "import numpy as np"
   ]
  },
  {
   "cell_type": "code",
   "execution_count": 70,
   "metadata": {
    "collapsed": true
   },
   "outputs": [],
   "source": [
    "import scipy.integrate as integrate"
   ]
  },
  {
   "cell_type": "code",
   "execution_count": 71,
   "metadata": {},
   "outputs": [],
   "source": [
    "import scipy.special as special"
   ]
  },
  {
   "cell_type": "code",
   "execution_count": 150,
   "metadata": {
    "collapsed": true
   },
   "outputs": [],
   "source": [
    "from sympy import *"
   ]
  },
  {
   "cell_type": "code",
   "execution_count": 94,
   "metadata": {
    "collapsed": true
   },
   "outputs": [],
   "source": [
    "from time import time"
   ]
  },
  {
   "cell_type": "code",
   "execution_count": 191,
   "metadata": {},
   "outputs": [],
   "source": [
    "def myF(x):\n",
    "    return abs(np.sin(x))"
   ]
  },
  {
   "cell_type": "code",
   "execution_count": 80,
   "metadata": {},
   "outputs": [
    {
     "data": {
      "text/plain": [
       "2.8322936730942847"
      ]
     },
     "execution_count": 80,
     "metadata": {},
     "output_type": "execute_result"
    }
   ],
   "source": [
    "integrate.quad(myF, -2, 2)[0]"
   ]
  },
  {
   "cell_type": "code",
   "execution_count": 126,
   "metadata": {
    "collapsed": true
   },
   "outputs": [],
   "source": [
    "def midRect(a, b, n):\n",
    "    tic = time()\n",
    "    X = np.linspace(a, b, n)[:-1]\n",
    "    Y = 0\n",
    "    for i in X: Y += myF(i+((b-a)/(2*n)))\n",
    "    I = ((b-a)/n)*(Y)\n",
    "    toc = time()\n",
    "    print(\"RunTime: \", toc-tic)\n",
    "    return I"
   ]
  },
  {
   "cell_type": "code",
   "execution_count": 127,
   "metadata": {},
   "outputs": [
    {
     "name": "stdout",
     "output_type": "stream",
     "text": [
      "RunTime:  0.014000654220581055\n"
     ]
    },
    {
     "data": {
      "text/plain": [
       "2.8313493407764199"
      ]
     },
     "execution_count": 127,
     "metadata": {},
     "output_type": "execute_result"
    }
   ],
   "source": [
    "midRect(-2, 2, 3000)"
   ]
  },
  {
   "cell_type": "code",
   "execution_count": 128,
   "metadata": {},
   "outputs": [],
   "source": [
    "def Trapz(a, b, n):\n",
    "    tic = time()\n",
    "    X = np.linspace(a, b, n)[1:-1]\n",
    "    Y = 0\n",
    "    for i in X: Y += myF(i)\n",
    "    I = ((b-a)/(2*n))*(myF(a)+2*(Y)+myF(b))\n",
    "    toc = time()\n",
    "    print(\"RunTime: \", toc - tic)\n",
    "    return I"
   ]
  },
  {
   "cell_type": "code",
   "execution_count": 129,
   "metadata": {},
   "outputs": [
    {
     "name": "stdout",
     "output_type": "stream",
     "text": [
      "RunTime:  0.011000871658325195\n"
     ]
    },
    {
     "data": {
      "text/plain": [
       "2.8313496000569307"
      ]
     },
     "execution_count": 129,
     "metadata": {},
     "output_type": "execute_result"
    }
   ],
   "source": [
    "Trapz(-2, 2, 3000)"
   ]
  },
  {
   "cell_type": "code",
   "execution_count": 148,
   "metadata": {
    "collapsed": true
   },
   "outputs": [],
   "source": [
    "def Simps(a, b, n):\n",
    "    tic = time()\n",
    "    X = np.linspace(a, b, 2*n)\n",
    "    evY = 0\n",
    "    unevY = 0\n",
    "    for i in X[2:-1:2]: evY += myF(i)\n",
    "    for i in X[1:-1:2]: unevY += myF(i)\n",
    "    I = ((b-a)/(6*n))*(myF(a) + 4*unevY + 2*evY + myF(b))\n",
    "    toc = time()\n",
    "    print(\"RunTime: \", toc - tic)\n",
    "    return I"
   ]
  },
  {
   "cell_type": "code",
   "execution_count": 149,
   "metadata": {},
   "outputs": [
    {
     "name": "stdout",
     "output_type": "stream",
     "text": [
      "RunTime:  0.019001007080078125\n"
     ]
    },
    {
     "data": {
      "text/plain": [
       "2.8316195642663029"
      ]
     },
     "execution_count": 149,
     "metadata": {},
     "output_type": "execute_result"
    }
   ],
   "source": [
    "Simps(-2, 2, 3000)"
   ]
  },
  {
   "cell_type": "code",
   "execution_count": 202,
   "metadata": {},
   "outputs": [],
   "source": [
    "def Gauss2(a, b):\n",
    "    tic = time()\n",
    "    c1, c2, x1, x2 = symbols(\"c1, c2, x1, x2\")\n",
    "    Solves = double(solve([c1 + c2 - (b-a), \n",
    "                           c1*x1 + c2*x2 - ((b**2 - a**2)/2), \n",
    "                           c1*x1**2 + c2*x2**2 - ((b**3 - a**3)/3), \n",
    "                           c1*x1**3 + c2*x2**3 - ((b**4 - a**4)/4)], \n",
    "                          [c1, c2, x1, x2])[0])\n",
    "    I = Solves[0]*myF(Solves[2]) + Solves[1]*myF(Solves[3])\n",
    "    toc = time()\n",
    "    print(\"RunTime: \", toc - tic)\n",
    "    return I"
   ]
  },
  {
   "cell_type": "code",
   "execution_count": 203,
   "metadata": {},
   "outputs": [
    {
     "name": "stdout",
     "output_type": "stream",
     "text": [
      "RunTime:  0.06600379943847656\n"
     ]
    },
    {
     "data": {
      "text/plain": [
       "3.6586958412563666"
      ]
     },
     "execution_count": 203,
     "metadata": {},
     "output_type": "execute_result"
    }
   ],
   "source": [
    "Gauss2(-2, 2)"
   ]
  },
  {
   "cell_type": "code",
   "execution_count": 208,
   "metadata": {
    "collapsed": true
   },
   "outputs": [],
   "source": [
    "def Gauss3(a, b):\n",
    "    tic = time()\n",
    "    c1, c2, c3, x1, x2, x3 = symbols(\"c1, c2, c3, x1, x2, x3\")\n",
    "    Solves = double(solve([c1 + c2 + c3 - (b-a), \n",
    "                           c1*x1 + c2*x2 + c3*x3- ((b**2 - a**2)/2), \n",
    "                           c1*x1**2 + c2*x2**2 + c3*x3**2 - ((b**3 - a**3)/3), \n",
    "                           c1*x1**3 + c2*x2**3 + c3*x3**3 - ((b**4 - a**4)/4), \n",
    "                           c1*x1**4 + c2*x2**4 + c3*x3**4 - ((b**5 - a**5)/5), \n",
    "                           c1*x1**5 + c2*x2**5 + c3*x3**5 - ((b**6 - a**6)/6)], \n",
    "                          [c1, c2, c3, x1, x2, x3])[0])\n",
    "    I = Solves[0]*myF(Solves[3]) + Solves[1]*myF(Solves[4]) + Solves[2]*myF(Solves[5])\n",
    "    toc = time()\n",
    "    print(\"RunTime: \", toc - tic)\n",
    "    return I"
   ]
  },
  {
   "cell_type": "code",
   "execution_count": 209,
   "metadata": {},
   "outputs": [
    {
     "name": "stdout",
     "output_type": "stream",
     "text": [
      "RunTime:  0.2020115852355957\n"
     ]
    },
    {
     "data": {
      "text/plain": [
       "2.221703698939562"
      ]
     },
     "execution_count": 209,
     "metadata": {},
     "output_type": "execute_result"
    }
   ],
   "source": [
    "Gauss3(-2, 2)"
   ]
  },
  {
   "cell_type": "code",
   "execution_count": 183,
   "metadata": {},
   "outputs": [
    {
     "data": {
      "text/plain": [
       "3.6586958412563666"
      ]
     },
     "execution_count": 183,
     "metadata": {},
     "output_type": "execute_result"
    }
   ],
   "source": [
    "x = double(solve([c1 + c2 - 4, c1*x1 + c2*x2, c1*x1**2 + c2*x2**2 - 16/3, c1*x1**3 + c2*x2**3], [c1, c2, x1, x2])[0])\n",
    "x[0]*myF(x[2]) + x[1]*myF(x[3])"
   ]
  },
  {
   "cell_type": "code",
   "execution_count": null,
   "metadata": {
    "collapsed": true
   },
   "outputs": [],
   "source": []
  }
 ],
 "metadata": {
  "kernelspec": {
   "display_name": "Python 3",
   "language": "python",
   "name": "python3"
  },
  "language_info": {
   "codemirror_mode": {
    "name": "ipython",
    "version": 3
   },
   "file_extension": ".py",
   "mimetype": "text/x-python",
   "name": "python",
   "nbconvert_exporter": "python",
   "pygments_lexer": "ipython3",
   "version": "3.6.1"
  }
 },
 "nbformat": 4,
 "nbformat_minor": 2
}
