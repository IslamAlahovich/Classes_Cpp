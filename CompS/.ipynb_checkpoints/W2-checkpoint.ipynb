{
 "cells": [
  {
   "cell_type": "code",
   "execution_count": 1,
   "metadata": {
    "collapsed": true
   },
   "outputs": [],
   "source": [
    "import numpy as np"
   ]
  },
  {
   "cell_type": "code",
   "execution_count": 2,
   "metadata": {
    "collapsed": true
   },
   "outputs": [],
   "source": [
    "from scipy import *"
   ]
  },
  {
   "cell_type": "code",
   "execution_count": 3,
   "metadata": {
    "collapsed": true
   },
   "outputs": [],
   "source": [
    "import scipy.integrate as scintegrate"
   ]
  },
  {
   "cell_type": "code",
   "execution_count": 4,
   "metadata": {
    "collapsed": true
   },
   "outputs": [],
   "source": [
    "import scipy.special as scispecial"
   ]
  },
  {
   "cell_type": "code",
   "execution_count": 5,
   "metadata": {
    "collapsed": true
   },
   "outputs": [],
   "source": [
    "from scipy.misc import derivative"
   ]
  },
  {
   "cell_type": "code",
   "execution_count": 6,
   "metadata": {
    "collapsed": true
   },
   "outputs": [],
   "source": [
    "from sympy import *"
   ]
  },
  {
   "cell_type": "code",
   "execution_count": 7,
   "metadata": {
    "collapsed": true
   },
   "outputs": [],
   "source": [
    "from time import time"
   ]
  },
  {
   "cell_type": "code",
   "execution_count": 8,
   "metadata": {
    "collapsed": true
   },
   "outputs": [],
   "source": [
    "def myF(x):\n",
    "    return abs(np.sin(x))"
   ]
  },
  {
   "cell_type": "code",
   "execution_count": 9,
   "metadata": {},
   "outputs": [
    {
     "data": {
      "text/plain": [
       "2.8322936730942847"
      ]
     },
     "execution_count": 9,
     "metadata": {},
     "output_type": "execute_result"
    }
   ],
   "source": [
    "RealI = scintegrate.quad(myF, -2, 2)[0]\n",
    "RealI"
   ]
  },
  {
   "cell_type": "code",
   "execution_count": 10,
   "metadata": {
    "collapsed": true
   },
   "outputs": [],
   "source": [
    "def midRect(a, b, n):\n",
    "    tic = time()\n",
    "    X = np.linspace(a, b, n)[:-1]\n",
    "    Y = 0\n",
    "    for i in X: Y += myF(i+((b-a)/(2*n)))\n",
    "    I = ((b-a)/n)*(Y)\n",
    "    toc = time()\n",
    "    #print(\"RunTime: \", toc-tic)\n",
    "    #print(\"Difference: \", abs(RealI - I))\n",
    "    return I"
   ]
  },
  {
   "cell_type": "code",
   "execution_count": 11,
   "metadata": {},
   "outputs": [
    {
     "data": {
      "text/plain": [
       "2.8313493407764199"
      ]
     },
     "execution_count": 11,
     "metadata": {},
     "output_type": "execute_result"
    }
   ],
   "source": [
    "midRect(-2, 2, 3000)"
   ]
  },
  {
   "cell_type": "code",
   "execution_count": 11,
   "metadata": {
    "collapsed": true
   },
   "outputs": [],
   "source": [
    "def Trapz(a, b, n):\n",
    "    tic = time()\n",
    "    X = np.linspace(a, b, n)[1:-1]\n",
    "    Y = 0\n",
    "    for i in X: Y += myF(i)\n",
    "    I = ((b-a)/(2*n))*(myF(a)+2*(Y)+myF(b))\n",
    "    toc = time()\n",
    "    print(\"RunTime: \", toc - tic)\n",
    "    print(\"Difference: \", abs(RealI - I))\n",
    "    return I"
   ]
  },
  {
   "cell_type": "code",
   "execution_count": 13,
   "metadata": {},
   "outputs": [
    {
     "name": "stdout",
     "output_type": "stream",
     "text": [
      "RunTime:  0.011000633239746094\n",
      "Difference:  0.000944073037354\n"
     ]
    },
    {
     "data": {
      "text/plain": [
       "2.8313496000569307"
      ]
     },
     "execution_count": 13,
     "metadata": {},
     "output_type": "execute_result"
    }
   ],
   "source": [
    "Trapz(-2, 2, 3000)"
   ]
  },
  {
   "cell_type": "code",
   "execution_count": 12,
   "metadata": {
    "collapsed": true
   },
   "outputs": [],
   "source": [
    "def Simps(a, b, n):\n",
    "    tic = time()\n",
    "    X = np.linspace(a, b, 2*n)\n",
    "    evY = 0\n",
    "    unevY = 0\n",
    "    for i in X[2:-1:2]: evY += myF(i)\n",
    "    for i in X[1:-1:2]: unevY += myF(i)\n",
    "    I = ((b-a)/(6*n))*(myF(a) + 4*unevY + 2*evY + myF(b))\n",
    "    toc = time()\n",
    "    #print(\"RunTime: \", toc - tic)\n",
    "    #print(\"Difference: \", abs(RealI - I))\n",
    "    return I"
   ]
  },
  {
   "cell_type": "code",
   "execution_count": 15,
   "metadata": {},
   "outputs": [
    {
     "name": "stdout",
     "output_type": "stream",
     "text": [
      "RunTime:  0.02100086212158203\n",
      "Difference:  0.000674108827982\n"
     ]
    },
    {
     "data": {
      "text/plain": [
       "2.8316195642663029"
      ]
     },
     "execution_count": 15,
     "metadata": {},
     "output_type": "execute_result"
    }
   ],
   "source": [
    "Simps(-2, 2, 3000)"
   ]
  },
  {
   "cell_type": "code",
   "execution_count": 13,
   "metadata": {
    "collapsed": true
   },
   "outputs": [],
   "source": [
    "def Gauss2(a, b):\n",
    "    #tic = time()\n",
    "    c1, c2, x1, x2 = symbols(\"c1, c2, x1, x2\")\n",
    "    Solves = double(solve([c1 + c2 - (b-a), \n",
    "                           c1*x1 + c2*x2 - ((b**2 - a**2)/2), \n",
    "                           c1*x1**2 + c2*x2**2 - ((b**3 - a**3)/3), \n",
    "                           c1*x1**3 + c2*x2**3 - ((b**4 - a**4)/4)], \n",
    "                          [c1, c2, x1, x2])[0])\n",
    "    I = Solves[0]*myF(Solves[2]) + Solves[1]*myF(Solves[3])\n",
    "    #toc = time()\n",
    "    #print(\"RunTime: \", toc - tic)\n",
    "    return I"
   ]
  },
  {
   "cell_type": "code",
   "execution_count": 17,
   "metadata": {},
   "outputs": [
    {
     "data": {
      "text/plain": [
       "3.6586958412563666"
      ]
     },
     "execution_count": 17,
     "metadata": {},
     "output_type": "execute_result"
    }
   ],
   "source": [
    "Gauss2(-2, 2)"
   ]
  },
  {
   "cell_type": "code",
   "execution_count": 14,
   "metadata": {
    "collapsed": true
   },
   "outputs": [],
   "source": [
    "def Gauss3(a, b):\n",
    "    #tic = time()\n",
    "    c1, c2, c3, x1, x2, x3 = symbols(\"c1, c2, c3, x1, x2, x3\")\n",
    "    Solves = double(solve([c1 + c2 + c3 - (b-a), \n",
    "                           c1*x1 + c2*x2 + c3*x3- ((b**2 - a**2)/2), \n",
    "                           c1*x1**2 + c2*x2**2 + c3*x3**2 - ((b**3 - a**3)/3), \n",
    "                           c1*x1**3 + c2*x2**3 + c3*x3**3 - ((b**4 - a**4)/4), \n",
    "                           c1*x1**4 + c2*x2**4 + c3*x3**4 - ((b**5 - a**5)/5), \n",
    "                           c1*x1**5 + c2*x2**5 + c3*x3**5 - ((b**6 - a**6)/6)], \n",
    "                          [c1, c2, c3, x1, x2, x3])[0])\n",
    "    I = Solves[0]*myF(Solves[3]) + Solves[1]*myF(Solves[4]) + Solves[2]*myF(Solves[5])\n",
    "    #toc = time()\n",
    "    #print(\"RunTime: \", toc - tic)\n",
    "    return I"
   ]
  },
  {
   "cell_type": "code",
   "execution_count": 19,
   "metadata": {},
   "outputs": [
    {
     "data": {
      "text/plain": [
       "2.221703698939562"
      ]
     },
     "execution_count": 19,
     "metadata": {},
     "output_type": "execute_result"
    }
   ],
   "source": [
    "Gauss3(-2, 2)"
   ]
  },
  {
   "cell_type": "code",
   "execution_count": 15,
   "metadata": {
    "collapsed": true
   },
   "outputs": [],
   "source": [
    "def FGauss2(a, b, n):\n",
    "    tic = time()\n",
    "    X = np.linspace(a, b, n)\n",
    "    I = 0\n",
    "    for i in range(len(X)-1): I += Gauss2(X[i], X[i+1])\n",
    "    toc = time()\n",
    "    print(\"RunTime: \", toc - tic)\n",
    "    print(\"Difference: \", abs(RealI - I))\n",
    "    return I"
   ]
  },
  {
   "cell_type": "code",
   "execution_count": 21,
   "metadata": {},
   "outputs": [
    {
     "name": "stdout",
     "output_type": "stream",
     "text": [
      "RunTime:  0.29701709747314453\n",
      "Difference:  0.0119797097635\n"
     ]
    },
    {
     "data": {
      "text/plain": [
       "2.8203139633307615"
      ]
     },
     "execution_count": 21,
     "metadata": {},
     "output_type": "execute_result"
    }
   ],
   "source": [
    "FGauss2(-2, 2, 3)"
   ]
  },
  {
   "cell_type": "code",
   "execution_count": 16,
   "metadata": {
    "collapsed": true
   },
   "outputs": [],
   "source": [
    "def FGauss3(a, b, n):\n",
    "    tic = time()\n",
    "    X = np.linspace(a, b, n)\n",
    "    I = 0\n",
    "    for i in range(len(X)-1): I += Gauss3(X[i], X[i+1])\n",
    "    toc = time()\n",
    "    #print(\"RunTime: \", toc - tic)\n",
    "    #print(\"Difference: \", abs(RealI - I))\n",
    "    #print(\"TheorDifference: \", )\n",
    "    return I"
   ]
  },
  {
   "cell_type": "code",
   "execution_count": 23,
   "metadata": {},
   "outputs": [
    {
     "name": "stdout",
     "output_type": "stream",
     "text": [
      "RunTime:  1.3670785427093506\n",
      "Difference:  0.00010363238762\n",
      "TheorDifference: \n"
     ]
    },
    {
     "data": {
      "text/plain": [
       "2.8323973054819045"
      ]
     },
     "execution_count": 23,
     "metadata": {},
     "output_type": "execute_result"
    }
   ],
   "source": [
    "FGauss3(-2, 2, 3)"
   ]
  },
  {
   "cell_type": "code",
   "execution_count": 17,
   "metadata": {
    "collapsed": true
   },
   "outputs": [],
   "source": [
    "def precision(quadF, n):\n",
    "    if quadF == FGauss3:\n",
    "        return 2*n - 1\n",
    "    elif quadF == FGauss2:\n",
    "        return 2*n - 1\n",
    "    elif quadF == Simps:\n",
    "        return 4\n",
    "    elif quadF == Trapz:\n",
    "        return 2\n",
    "    elif quadF == midRect:\n",
    "        return 2\n",
    "    else:\n",
    "        return 1"
   ]
  },
  {
   "cell_type": "code",
   "execution_count": 24,
   "metadata": {},
   "outputs": [
    {
     "data": {
      "text/plain": [
       "3"
      ]
     },
     "execution_count": 24,
     "metadata": {},
     "output_type": "execute_result"
    }
   ],
   "source": [
    "precision(FGauss3, 2)"
   ]
  },
  {
   "cell_type": "code",
   "execution_count": 19,
   "metadata": {
    "collapsed": true
   },
   "outputs": [],
   "source": [
    "def ruleRunge(quadF, a, b):\n",
    "    n = 1\n",
    "    epsilon = 1\n",
    "    iteration = 0\n",
    "    while (epsilon > 1e-4):\n",
    "        iteration += 1\n",
    "        n *= 2\n",
    "        m = precision(quadF, n)\n",
    "        epsilon = abs(quadF(a, b, n*2) - quadF(a, b, n))/(2**(m - 1) - 1)\n",
    "        print(\"For n =\", n, \":\", epsilon)\n",
    "    tic = time()\n",
    "    I = quadF(a, b, n)\n",
    "    toc = time()\n",
    "    print(\"Convergence:\", iteration)\n",
    "    print()\n",
    "    print(\"RunTime:\", toc - tic)"
   ]
  },
  {
   "cell_type": "code",
   "execution_count": 20,
   "metadata": {},
   "outputs": [
    {
     "name": "stdout",
     "output_type": "stream",
     "text": [
      "For n = 2 : 0.399894128935\n",
      "For n = 4 : 0.373841224062\n",
      "For n = 8 : 0.191781843235\n",
      "For n = 16 : 0.0934424644207\n",
      "For n = 32 : 0.0456443240108\n",
      "For n = 64 : 0.0224943370197\n",
      "For n = 128 : 0.011157861969\n",
      "For n = 256 : 0.00555568421913\n",
      "For n = 512 : 0.00277191532694\n",
      "For n = 1024 : 0.00138446157702\n",
      "For n = 2048 : 0.000691854967775\n",
      "For n = 4096 : 0.000345833303797\n",
      "For n = 8192 : 0.000172893078766\n",
      "For n = 16384 : 8.6440642606e-05\n",
      "Convergence: 14\n",
      "\n",
      "RunTime: 0.03500223159790039\n"
     ]
    }
   ],
   "source": [
    "ruleRunge(midRect, -2, 2)"
   ]
  },
  {
   "cell_type": "code",
   "execution_count": null,
   "metadata": {
    "collapsed": true
   },
   "outputs": [],
   "source": []
  }
 ],
 "metadata": {
  "kernelspec": {
   "display_name": "Python 3",
   "language": "python",
   "name": "python3"
  },
  "language_info": {
   "codemirror_mode": {
    "name": "ipython",
    "version": 3
   },
   "file_extension": ".py",
   "mimetype": "text/x-python",
   "name": "python",
   "nbconvert_exporter": "python",
   "pygments_lexer": "ipython3",
   "version": "3.6.1"
  }
 },
 "nbformat": 4,
 "nbformat_minor": 2
}
